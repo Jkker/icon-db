{
 "cells": [
  {
   "cell_type": "code",
   "execution_count": 3,
   "metadata": {},
   "outputs": [
    {
     "name": "stdout",
     "output_type": "stream",
     "text": [
      "{\n",
      "  \"Copied\": \" copied\",\n",
      "  \"Copy\": \" copy\",\n",
      "  \"Copy to clipboard\": \" copy to clipboard\",\n",
      "  \"Copy to clipboard: Ctrl+C, Enter\": \" copy to clipboard:  ctrl+ c,  enter\",\n",
      "  \"Copy Failed\": \" copy  failed\",\n",
      "  \"Search Icon\": \" search  icon\",\n",
      "  \"All Icons Sets\": \" all  icons  sets\",\n",
      "  \"Select All\": \" select  all\",\n",
      "  \"OK\": \" o k\",\n",
      "  \"No icons found\": \" no icons found\",\n",
      "  \"Color\": \" color\",\n",
      "  \"Size\": \" size\",\n",
      "  \"Download\": \" download\",\n",
      "  \"Background\": \" background\",\n",
      "  \"Icon\": \" icon\",\n",
      "  \"Radius\": \" radius\",\n",
      "  \"Padding\": \" padding\",\n",
      "  \"Border\": \" border\",\n",
      "  \"Shadow\": \" shadow\",\n",
      "  \"Opacity\": \" opacity\",\n",
      "  \"Style\": \" style\",\n",
      "  \"Margin\": \" margin\",\n",
      "  \"CopySVG\": \" copy s v g\",\n",
      "  \"CopyReactComponent\": \" copy react component\",\n",
      "  \"CopyReactImport\": \" copy react import\",\n",
      "  \"CopyName\": \" copy name\",\n",
      "  \"CopyDataURI\": \" copy data u r i\",\n",
      "  \"CopyPNG\": \" copy p n g\",\n",
      "  \"DownloadPNG\": \" download p n g\",\n",
      "  \"DownloadSVG\": \" download s v g\",\n",
      "  \"DownloadReact\": \" download react\",\n",
      "  \"DownloadVue\": \" download vue\",\n",
      "  \"DownloadSvelte\": \" download svelte\",\n",
      "  \"DownloadICO\": \" download i c o\"\n",
      "}\n"
     ]
    }
   ],
   "source": [
    "d = {\n",
    "  \"Copied\": \"已复制\",\n",
    "  \"Copy\": \"复制\",\n",
    "  \"Copy to clipboard\": \"复制到剪贴板\",\n",
    "  \"Copy to clipboard: Ctrl+C, Enter\": \"复制到剪贴板：Ctrl+C, Enter\",\n",
    "  \"Copy Failed\": \"复制失败\",\n",
    "  \"Search Icon\": \"搜索图标\",\n",
    "  \"All Icons Sets\": \"全部图标库\",\n",
    "  \"Select All\": \"全选\",\n",
    "  \"OK\": \"确定\",\n",
    "  \"No icons found\": \"没有找到图标\",\n",
    "  \"Color\": \"颜色\",\n",
    "  \"Size\": \"大小\",\n",
    "  \"Download\": \"下载\",\n",
    "  \"Background\": \"背景\",\n",
    "  \"Icon\": \"图标\",\n",
    "  \"Radius\": \"半径\",\n",
    "  \"Padding\": \"内边距\",\n",
    "  \"Border\": \"边框\",\n",
    "  \"Shadow\": \"阴影\",\n",
    "  \"Opacity\": \"透明度\",\n",
    "  \"Style\": \"样式\",\n",
    "  \"Margin\": \"外边距\",\n",
    "  \"CopySVG\": \"复制 SVG\",\n",
    "  \"CopyReactComponent\": \"复制 React 组件\",\n",
    "  \"CopyReactImport\": \"复制 React 导入\",\n",
    "  \"CopyName\": \"复制名称\",\n",
    "  \"CopyDataURI\": \"复制 Data URI\",\n",
    "  \"CopyPNG\": \"复制 PNG\",\n",
    "  \"DownloadPNG\": \"下载 PNG\",\n",
    "  \"DownloadSVG\": \"下载 SVG\",\n",
    "  \"DownloadReact\": \"下载 React 组件\",\n",
    "  \"DownloadVue\": \"下载 Vue 组件\",\n",
    "  \"DownloadSvelte\": \"下载 Svelte 组件\",\n",
    "  \"DownloadICO\": \"下载 ICO\"\n",
    "}\n",
    "\n",
    "for k, v in d.items():\n",
    "    d[k] = k\n",
    "\n",
    "import json\n",
    "\n",
    "print(json.dumps(d, ensure_ascii=False, indent=2))"
   ]
  }
 ],
 "metadata": {
  "kernelspec": {
   "display_name": "Python 3",
   "language": "python",
   "name": "python3"
  },
  "language_info": {
   "codemirror_mode": {
    "name": "ipython",
    "version": 3
   },
   "file_extension": ".py",
   "mimetype": "text/x-python",
   "name": "python",
   "nbconvert_exporter": "python",
   "pygments_lexer": "ipython3",
   "version": "3.10.8"
  },
  "orig_nbformat": 4,
  "vscode": {
   "interpreter": {
    "hash": "97cc609b13305c559618ec78a438abc56230b9381f827f22d070313b9a1f3777"
   }
  }
 },
 "nbformat": 4,
 "nbformat_minor": 2
}
