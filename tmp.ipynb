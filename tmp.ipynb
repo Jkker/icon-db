{
 "cells": [
  {
   "cell_type": "code",
   "execution_count": null,
   "metadata": {},
   "outputs": [],
   "source": [
    "import json\n",
    "import os\n",
    "from multiprocessing import Pool\n",
    "\n",
    "import cairosvg\n",
    "import imagehash\n",
    "from PIL import Image\n",
    "from tqdm.contrib.concurrent import process_map\n",
    "\n",
    "\n",
    "def get_hash(icon, png_size=128, hash_size=16):\n",
    "    # ensure png exists\n",
    "    if not os.path.exists(icon['png_path']):\n",
    "        cairosvg.svg2png(url=icon['path'],\n",
    "                         write_to=icon['png_path'],\n",
    "                         negate_colors=True,\n",
    "                         output_width=png_size,\n",
    "                         output_height=png_size)\n",
    "\n",
    "    icon['hash'] = imagehash.phash(Image.open(icon['png_path']),\n",
    "                                   hash_size=hash_size)\n",
    "    return icon\n",
    "\n",
    "def load_icons(base_path, sets=None):\n",
    "    icons = []\n",
    "\n",
    "    svg_base = os.path.join(base_path, 'svg')\n",
    "    png_base = os.path.join(base_path, 'png')\n",
    "\n",
    "    for set_id in os.listdir(svg_base) if sets is None else sets:\n",
    "        for icon_name in os.listdir(os.path.join(svg_base, set_id)):\n",
    "            icons.append({\n",
    "                \"path\":\n",
    "                os.path.join(svg_base, set_id, icon_name),\n",
    "                \"png_path\":\n",
    "                os.path.join(png_base, set_id,\n",
    "                             icon_name.replace('.svg', '.png')),\n",
    "                \"name\":\n",
    "                icon_name.replace('.svg', '')\n",
    "            })\n",
    "        # ensure png dir exists\n",
    "        os.makedirs(os.path.join(png_base, set_id), exist_ok=True)\n",
    "    return icons\n",
    "\n",
    "class JSONEncoder(json.JSONEncoder):\n",
    "    def default(self, obj):\n",
    "        if isinstance(obj, imagehash.ImageHash):\n",
    "            return str(obj)\n",
    "        return json.JSONEncoder.default(self, obj)\n",
    "\n",
    "\n",
    "if __name__ == '__main__':\n",
    "    # filenames = get_icon_paths('./tmp/svg', sets=['go', 'tb', 'ai', 'fa'])\n",
    "    icons = load_icons('./tmp')\n",
    "\n",
    "    results = process_map(get_hash, icons, chunksize=100)\n",
    "\n",
    "    with open('tmp/results.json', 'w') as f:\n",
    "        # encoder\n",
    "        json.dump(results, f, ensure_ascii=False, cls=JSONEncoder)"
   ]
  },
  {
   "cell_type": "code",
   "execution_count": null,
   "metadata": {},
   "outputs": [],
   "source": [
    "results = json.load(open('tmp/results.json'))"
   ]
  },
  {
   "cell_type": "code",
   "execution_count": null,
   "metadata": {},
   "outputs": [],
   "source": [
    "target = results[results.index(\n",
    "    next(x for x in results if x['name'] == 'GoAlert'))]\n"
   ]
  },
  {
   "cell_type": "code",
   "execution_count": null,
   "metadata": {},
   "outputs": [],
   "source": [
    "for r in results:\n",
    "    r['restored_hash'] = imagehash.hex_to_hash(r['hash'])"
   ]
  },
  {
   "cell_type": "code",
   "execution_count": null,
   "metadata": {},
   "outputs": [],
   "source": [
    "res = results.copy()\n",
    "\n",
    "res.sort(key=lambda x: x['restored_hash'] - target['restored_hash'])\n"
   ]
  },
  {
   "cell_type": "code",
   "execution_count": null,
   "metadata": {},
   "outputs": [],
   "source": [
    "[x['name'] for x in res[:10]]"
   ]
  },
  {
   "cell_type": "code",
   "execution_count": null,
   "metadata": {},
   "outputs": [],
   "source": [
    "# find equal hashes\n",
    "hashes = {}\n",
    "for result in results:\n",
    "    if result['hash'] in hashes:\n",
    "        hashes[result['hash']].append(result['path'])\n",
    "    else:\n",
    "        hashes[result['hash']] = [result['path']]\n",
    "\n",
    "# find clusters\n",
    "clusters = []\n",
    "for hash_, filenames in hashes.items():\n",
    "    if len(filenames) > 1:\n",
    "        clusters.append(filenames)"
   ]
  },
  {
   "cell_type": "code",
   "execution_count": 23,
   "metadata": {},
   "outputs": [],
   "source": [
    "# display each cluster in a row\n",
    "from IPython.display import display, HTML\n",
    "\n",
    "def path_to_filename(path):\n",
    "    return os.path.basename(path).replace('.svg', '')\n",
    "\n",
    "def display_cluster(paths, title):\n",
    "    img = lambda path: f'<div style=\"display:flex; flex-direction:column; align-items:center; justify-content:center;\"><img src=\"{path.replace(\"svg\", \"png\")}\" style=\"height: 64px; width: 64px\" title=\"{path_to_filename(path)}\">{path_to_filename(path)}</div>'\n",
    "\n",
    "    tmpl = f'<h2>{title}</h2><div style=\"display: flex; flex-direction: row; gap: 8px\">{\"\".join([img(p) for p in paths])}</div>'\n",
    "    display(HTML(tmpl))\n",
    "\n",
    "# for i, cluster in enumerate(clusters):\n",
    "#     display_cluster(cluster, title=f'Cluster {i} ({len(cluster)} icons)')"
   ]
  },
  {
   "cell_type": "code",
   "execution_count": 25,
   "metadata": {},
   "outputs": [
    {
     "data": {
      "text/html": [
       "<h2>Top 10</h2><div style=\"display: flex; flex-direction: row; gap: 8px\"><div style=\"display:flex; flex-direction:column; align-items:center; justify-content:center;\"><img src=\"./tmp/png/go/GoAlert.png\" style=\"height: 64px; width: 64px\" title=\"GoAlert.png\">GoAlert.png</div><div style=\"display:flex; flex-direction:column; align-items:center; justify-content:center;\"><img src=\"./tmp/png/fa/FaExclamationTriangle.png\" style=\"height: 64px; width: 64px\" title=\"FaExclamationTriangle.png\">FaExclamationTriangle.png</div><div style=\"display:flex; flex-direction:column; align-items:center; justify-content:center;\"><img src=\"./tmp/png/bs/BsFillExclamationTriangleFill.png\" style=\"height: 64px; width: 64px\" title=\"BsFillExclamationTriangleFill.png\">BsFillExclamationTriangleFill.png</div><div style=\"display:flex; flex-direction:column; align-items:center; justify-content:center;\"><img src=\"./tmp/png/bs/BsExclamationTriangleFill.png\" style=\"height: 64px; width: 64px\" title=\"BsExclamationTriangleFill.png\">BsExclamationTriangleFill.png</div><div style=\"display:flex; flex-direction:column; align-items:center; justify-content:center;\"><img src=\"./tmp/png/bs/BsTriangleFill.png\" style=\"height: 64px; width: 64px\" title=\"BsTriangleFill.png\">BsTriangleFill.png</div><div style=\"display:flex; flex-direction:column; align-items:center; justify-content:center;\"><img src=\"./tmp/png/bs/BsFillTriangleFill.png\" style=\"height: 64px; width: 64px\" title=\"BsFillTriangleFill.png\">BsFillTriangleFill.png</div><div style=\"display:flex; flex-direction:column; align-items:center; justify-content:center;\"><img src=\"./tmp/png/bs/BsTriangle.png\" style=\"height: 64px; width: 64px\" title=\"BsTriangle.png\">BsTriangle.png</div><div style=\"display:flex; flex-direction:column; align-items:center; justify-content:center;\"><img src=\"./tmp/png/im/ImOffice.png\" style=\"height: 64px; width: 64px\" title=\"ImOffice.png\">ImOffice.png</div><div style=\"display:flex; flex-direction:column; align-items:center; justify-content:center;\"><img src=\"./tmp/png/gi/GiMeeple.png\" style=\"height: 64px; width: 64px\" title=\"GiMeeple.png\">GiMeeple.png</div><div style=\"display:flex; flex-direction:column; align-items:center; justify-content:center;\"><img src=\"./tmp/png/ri/RiThumbUpLine.png\" style=\"height: 64px; width: 64px\" title=\"RiThumbUpLine.png\">RiThumbUpLine.png</div></div>"
      ],
      "text/plain": [
       "<IPython.core.display.HTML object>"
      ]
     },
     "metadata": {},
     "output_type": "display_data"
    }
   ],
   "source": [
    "display_cluster([x['png_path'] for x in res[:10]], title='Top 10')"
   ]
  },
  {
   "cell_type": "code",
   "execution_count": null,
   "metadata": {},
   "outputs": [],
   "source": [
    "sorted_results = sorted(results, key=lambda x: x['hash'])\n",
    "\n",
    "for i in range(0, len(sorted_results[:50]), 10):\n",
    "    display_cluster([r['path'] for r in sorted_results[i:i+10]], title=f'Cluster {i} ({len(cluster)} icons)')"
   ]
  },
  {
   "cell_type": "code",
   "execution_count": null,
   "metadata": {},
   "outputs": [],
   "source": [
    "def search_similar(hash, hashes, threshold=5):\n",
    "    similar = []\n",
    "    for h, paths in hashes.items():\n",
    "        if hash == h:\n",
    "            continue\n",
    "        if hash - h <= threshold:\n",
    "            similar.append(paths)\n",
    "    return similar"
   ]
  }
 ],
 "metadata": {
  "kernelspec": {
   "display_name": ".venv",
   "language": "python",
   "name": "python3"
  },
  "language_info": {
   "codemirror_mode": {
    "name": "ipython",
    "version": 3
   },
   "file_extension": ".py",
   "mimetype": "text/x-python",
   "name": "python",
   "nbconvert_exporter": "python",
   "pygments_lexer": "ipython3",
   "version": "3.10.8 (main, Oct 12 2022, 19:14:26) [GCC 9.4.0]"
  },
  "orig_nbformat": 4,
  "vscode": {
   "interpreter": {
    "hash": "dcdf9ebadf94456825e7c4f7ad177530177e7183282a02627ddd45a78f69420e"
   }
  }
 },
 "nbformat": 4,
 "nbformat_minor": 2
}
